{
 "cells": [
  {
   "cell_type": "code",
   "execution_count": 155,
   "metadata": {
    "collapsed": true
   },
   "outputs": [
    {
     "name": "stdout",
     "output_type": "stream",
     "text": [
      "19370\n"
     ]
    },
    {
     "data": {
      "text/html": [
       "<div>\n",
       "<table border=\"1\" class=\"dataframe\">\n",
       "  <thead>\n",
       "    <tr style=\"text-align: right;\">\n",
       "      <th></th>\n",
       "      <th>id</th>\n",
       "      <th>use</th>\n",
       "      <th>fold</th>\n",
       "      <th>sex_m</th>\n",
       "      <th>sex_f</th>\n",
       "      <th>age_class_0</th>\n",
       "      <th>age_class_1</th>\n",
       "      <th>age_class_2</th>\n",
       "      <th>age_class_3</th>\n",
       "      <th>age_class_4</th>\n",
       "      <th>age_class_5</th>\n",
       "      <th>age_class_6</th>\n",
       "      <th>age_class_7</th>\n",
       "      <th>id_orig</th>\n",
       "      <th>box_x</th>\n",
       "      <th>box_y</th>\n",
       "      <th>box_s</th>\n",
       "    </tr>\n",
       "  </thead>\n",
       "  <tbody>\n",
       "    <tr>\n",
       "      <th>0</th>\n",
       "      <td>00000.jpg</td>\n",
       "      <td>0</td>\n",
       "      <td>0</td>\n",
       "      <td>0.0</td>\n",
       "      <td>1.0</td>\n",
       "      <td>0</td>\n",
       "      <td>0</td>\n",
       "      <td>0</td>\n",
       "      <td>0</td>\n",
       "      <td>1</td>\n",
       "      <td>0</td>\n",
       "      <td>0</td>\n",
       "      <td>0</td>\n",
       "      <td>adience/faces/30601258@N03/coarse_tilt_aligned...</td>\n",
       "      <td>-1</td>\n",
       "      <td>-1</td>\n",
       "      <td>-1</td>\n",
       "    </tr>\n",
       "    <tr>\n",
       "      <th>1</th>\n",
       "      <td>00001.jpg</td>\n",
       "      <td>1</td>\n",
       "      <td>0</td>\n",
       "      <td>1.0</td>\n",
       "      <td>0.0</td>\n",
       "      <td>0</td>\n",
       "      <td>0</td>\n",
       "      <td>0</td>\n",
       "      <td>0</td>\n",
       "      <td>1</td>\n",
       "      <td>0</td>\n",
       "      <td>0</td>\n",
       "      <td>0</td>\n",
       "      <td>adience/faces/30601258@N03/coarse_tilt_aligned...</td>\n",
       "      <td>103</td>\n",
       "      <td>102</td>\n",
       "      <td>382</td>\n",
       "    </tr>\n",
       "    <tr>\n",
       "      <th>2</th>\n",
       "      <td>00002.jpg</td>\n",
       "      <td>1</td>\n",
       "      <td>0</td>\n",
       "      <td>0.0</td>\n",
       "      <td>1.0</td>\n",
       "      <td>0</td>\n",
       "      <td>0</td>\n",
       "      <td>0</td>\n",
       "      <td>0</td>\n",
       "      <td>1</td>\n",
       "      <td>0</td>\n",
       "      <td>0</td>\n",
       "      <td>0</td>\n",
       "      <td>adience/faces/30601258@N03/coarse_tilt_aligned...</td>\n",
       "      <td>115</td>\n",
       "      <td>100</td>\n",
       "      <td>370</td>\n",
       "    </tr>\n",
       "    <tr>\n",
       "      <th>3</th>\n",
       "      <td>00003.jpg</td>\n",
       "      <td>0</td>\n",
       "      <td>0</td>\n",
       "      <td>1.0</td>\n",
       "      <td>0.0</td>\n",
       "      <td>0</td>\n",
       "      <td>0</td>\n",
       "      <td>0</td>\n",
       "      <td>0</td>\n",
       "      <td>1</td>\n",
       "      <td>0</td>\n",
       "      <td>0</td>\n",
       "      <td>0</td>\n",
       "      <td>adience/faces/30601258@N03/coarse_tilt_aligned...</td>\n",
       "      <td>-1</td>\n",
       "      <td>-1</td>\n",
       "      <td>-1</td>\n",
       "    </tr>\n",
       "    <tr>\n",
       "      <th>4</th>\n",
       "      <td>00004.jpg</td>\n",
       "      <td>1</td>\n",
       "      <td>0</td>\n",
       "      <td>1.0</td>\n",
       "      <td>0.0</td>\n",
       "      <td>0</td>\n",
       "      <td>0</td>\n",
       "      <td>0</td>\n",
       "      <td>0</td>\n",
       "      <td>1</td>\n",
       "      <td>0</td>\n",
       "      <td>0</td>\n",
       "      <td>0</td>\n",
       "      <td>adience/faces/30601258@N03/coarse_tilt_aligned...</td>\n",
       "      <td>133</td>\n",
       "      <td>111</td>\n",
       "      <td>349</td>\n",
       "    </tr>\n",
       "  </tbody>\n",
       "</table>\n",
       "</div>"
      ],
      "text/plain": [
       "<div>\n",
       "<table border=\"1\" class=\"dataframe\">\n",
       "  <thead>\n",
       "    <tr style=\"text-align: right;\">\n",
       "      <th></th>\n",
       "      <th>id</th>\n",
       "      <th>use</th>\n",
       "      <th>fold</th>\n",
       "      <th>sex_m</th>\n",
       "      <th>sex_f</th>\n",
       "      <th>age_class_0</th>\n",
       "      <th>age_class_1</th>\n",
       "      <th>age_class_2</th>\n",
       "      <th>age_class_3</th>\n",
       "      <th>age_class_4</th>\n",
       "      <th>age_class_5</th>\n",
       "      <th>age_class_6</th>\n",
       "      <th>age_class_7</th>\n",
       "      <th>id_orig</th>\n",
       "      <th>box_x</th>\n",
       "      <th>box_y</th>\n",
       "      <th>box_s</th>\n",
       "    </tr>\n",
       "  </thead>\n",
       "  <tbody>\n",
       "    <tr>\n",
       "      <th>0</th>\n",
       "      <td>00000.jpg</td>\n",
       "      <td>0</td>\n",
       "      <td>0</td>\n",
       "      <td>0.0</td>\n",
       "      <td>1.0</td>\n",
       "      <td>0</td>\n",
       "      <td>0</td>\n",
       "      <td>0</td>\n",
       "      <td>0</td>\n",
       "      <td>1</td>\n",
       "      <td>0</td>\n",
       "      <td>0</td>\n",
       "      <td>0</td>\n",
       "      <td>adience/faces/30601258@N03/coarse_tilt_aligned...</td>\n",
       "      <td>-1</td>\n",
       "      <td>-1</td>\n",
       "      <td>-1</td>\n",
       "    </tr>\n",
       "    <tr>\n",
       "      <th>1</th>\n",
       "      <td>00001.jpg</td>\n",
       "      <td>1</td>\n",
       "      <td>0</td>\n",
       "      <td>1.0</td>\n",
       "      <td>0.0</td>\n",
       "      <td>0</td>\n",
       "      <td>0</td>\n",
       "      <td>0</td>\n",
       "      <td>0</td>\n",
       "      <td>1</td>\n",
       "      <td>0</td>\n",
       "      <td>0</td>\n",
       "      <td>0</td>\n",
       "      <td>adience/faces/30601258@N03/coarse_tilt_aligned...</td>\n",
       "      <td>103</td>\n",
       "      <td>102</td>\n",
       "      <td>382</td>\n",
       "    </tr>\n",
       "    <tr>\n",
       "      <th>2</th>\n",
       "      <td>00002.jpg</td>\n",
       "      <td>1</td>\n",
       "      <td>0</td>\n",
       "      <td>0.0</td>\n",
       "      <td>1.0</td>\n",
       "      <td>0</td>\n",
       "      <td>0</td>\n",
       "      <td>0</td>\n",
       "      <td>0</td>\n",
       "      <td>1</td>\n",
       "      <td>0</td>\n",
       "      <td>0</td>\n",
       "      <td>0</td>\n",
       "      <td>adience/faces/30601258@N03/coarse_tilt_aligned...</td>\n",
       "      <td>115</td>\n",
       "      <td>100</td>\n",
       "      <td>370</td>\n",
       "    </tr>\n",
       "    <tr>\n",
       "      <th>3</th>\n",
       "      <td>00003.jpg</td>\n",
       "      <td>0</td>\n",
       "      <td>0</td>\n",
       "      <td>1.0</td>\n",
       "      <td>0.0</td>\n",
       "      <td>0</td>\n",
       "      <td>0</td>\n",
       "      <td>0</td>\n",
       "      <td>0</td>\n",
       "      <td>1</td>\n",
       "      <td>0</td>\n",
       "      <td>0</td>\n",
       "      <td>0</td>\n",
       "      <td>adience/faces/30601258@N03/coarse_tilt_aligned...</td>\n",
       "      <td>-1</td>\n",
       "      <td>-1</td>\n",
       "      <td>-1</td>\n",
       "    </tr>\n",
       "    <tr>\n",
       "      <th>4</th>\n",
       "      <td>00004.jpg</td>\n",
       "      <td>1</td>\n",
       "      <td>0</td>\n",
       "      <td>1.0</td>\n",
       "      <td>0.0</td>\n",
       "      <td>0</td>\n",
       "      <td>0</td>\n",
       "      <td>0</td>\n",
       "      <td>0</td>\n",
       "      <td>1</td>\n",
       "      <td>0</td>\n",
       "      <td>0</td>\n",
       "      <td>0</td>\n",
       "      <td>adience/faces/30601258@N03/coarse_tilt_aligned...</td>\n",
       "      <td>133</td>\n",
       "      <td>111</td>\n",
       "      <td>349</td>\n",
       "    </tr>\n",
       "  </tbody>\n",
       "</table>\n",
       "</div>"
      ]
     },
     "execution_count": 155,
     "metadata": {},
     "output_type": "execute_result"
    }
   ],
   "source": [
    "import numpy as np\n",
    "import pandas as pd\n",
    "import cv2\n",
    "import matplotlib.pyplot as plt\n",
    "import scipy.io as sio\n",
    "import sys\n",
    "\n",
    "df = pd.read_csv('adience/labels.csv')\n",
    "n = len(df)\n",
    "print(n)\n",
    "\n",
    "df.head()"
   ]
  },
  {
   "cell_type": "code",
   "execution_count": 165,
   "metadata": {
    "collapsed": true
   },
   "outputs": [
    {
     "name": "stdout",
     "output_type": "stream",
     "text": [
      "0, "
     ]
    },
    {
     "name": "stdout",
     "output_type": "stream",
     "text": [
      "500, "
     ]
    },
    {
     "name": "stdout",
     "output_type": "stream",
     "text": [
      "1000, "
     ]
    },
    {
     "name": "stdout",
     "output_type": "stream",
     "text": [
      "1500, "
     ]
    },
    {
     "name": "stdout",
     "output_type": "stream",
     "text": [
      "2000, "
     ]
    },
    {
     "name": "stdout",
     "output_type": "stream",
     "text": [
      "2500, "
     ]
    },
    {
     "name": "stdout",
     "output_type": "stream",
     "text": [
      "3000, "
     ]
    },
    {
     "name": "stdout",
     "output_type": "stream",
     "text": [
      "3500, "
     ]
    },
    {
     "name": "stdout",
     "output_type": "stream",
     "text": [
      "4000, "
     ]
    },
    {
     "name": "stdout",
     "output_type": "stream",
     "text": [
      "4500, "
     ]
    },
    {
     "name": "stdout",
     "output_type": "stream",
     "text": [
      "5000, "
     ]
    },
    {
     "name": "stdout",
     "output_type": "stream",
     "text": [
      "5500, "
     ]
    },
    {
     "name": "stdout",
     "output_type": "stream",
     "text": [
      "6000, "
     ]
    },
    {
     "name": "stdout",
     "output_type": "stream",
     "text": [
      "6500, "
     ]
    },
    {
     "name": "stdout",
     "output_type": "stream",
     "text": [
      "7000, "
     ]
    },
    {
     "name": "stdout",
     "output_type": "stream",
     "text": [
      "7500, "
     ]
    },
    {
     "name": "stdout",
     "output_type": "stream",
     "text": [
      "8000, "
     ]
    },
    {
     "name": "stdout",
     "output_type": "stream",
     "text": [
      "8500, "
     ]
    },
    {
     "name": "stdout",
     "output_type": "stream",
     "text": [
      "9000, "
     ]
    },
    {
     "name": "stdout",
     "output_type": "stream",
     "text": [
      "9500, "
     ]
    },
    {
     "name": "stdout",
     "output_type": "stream",
     "text": [
      "10000, "
     ]
    },
    {
     "name": "stdout",
     "output_type": "stream",
     "text": [
      "10500, "
     ]
    },
    {
     "name": "stdout",
     "output_type": "stream",
     "text": [
      "11000, "
     ]
    },
    {
     "name": "stdout",
     "output_type": "stream",
     "text": [
      "11500, "
     ]
    },
    {
     "name": "stdout",
     "output_type": "stream",
     "text": [
      "12000, "
     ]
    },
    {
     "name": "stdout",
     "output_type": "stream",
     "text": [
      "12500, "
     ]
    },
    {
     "name": "stdout",
     "output_type": "stream",
     "text": [
      "13000, "
     ]
    },
    {
     "name": "stdout",
     "output_type": "stream",
     "text": [
      "13500, "
     ]
    },
    {
     "name": "stdout",
     "output_type": "stream",
     "text": [
      "14000, "
     ]
    },
    {
     "name": "stdout",
     "output_type": "stream",
     "text": [
      "14500, "
     ]
    },
    {
     "name": "stdout",
     "output_type": "stream",
     "text": [
      "15000, "
     ]
    },
    {
     "name": "stdout",
     "output_type": "stream",
     "text": [
      "15500, "
     ]
    },
    {
     "name": "stdout",
     "output_type": "stream",
     "text": [
      "16000, "
     ]
    },
    {
     "name": "stdout",
     "output_type": "stream",
     "text": [
      "16500, "
     ]
    },
    {
     "name": "stdout",
     "output_type": "stream",
     "text": [
      "17000, "
     ]
    },
    {
     "name": "stdout",
     "output_type": "stream",
     "text": [
      "17500, "
     ]
    },
    {
     "name": "stdout",
     "output_type": "stream",
     "text": [
      "18000, "
     ]
    },
    {
     "name": "stdout",
     "output_type": "stream",
     "text": [
      "18500, "
     ]
    },
    {
     "name": "stdout",
     "output_type": "stream",
     "text": [
      "19000, "
     ]
    }
   ],
   "source": [
    "# PREPARE EXPORT TO MAT\n",
    "\n",
    "output_size = 64\n",
    "file_name = 'adience/images'+str(output_size)+'g.mat'\n",
    "\n",
    "sample_size = n\n",
    "imgs = np.full((sample_size, output_size, output_size), 0)\n",
    "for i in range(0, sample_size):\n",
    "    if i%500==0: sys.stdout.write(str(i)+', ')\n",
    "    if df['use'][i]==1:\n",
    "        imgs[i] = cv2.resize(\n",
    "            src=cv2.cvtColor(\n",
    "                src=cv2.imread(df['id_orig'][i]),\n",
    "                code=cv2.COLOR_BGR2GRAY)\n",
    "                [df['box_x'][i]:df['box_x'][i]+df['box_s'][i],\n",
    "                df['box_y'][i]:df['box_y'][i]+df['box_s'][i]],\n",
    "            dsize=(output_size,output_size),\n",
    "            interpolation=cv2.INTER_CUBIC\n",
    "        )"
   ]
  },
  {
   "cell_type": "code",
   "execution_count": 156,
   "metadata": {
    "collapsed": true
   },
   "outputs": [
    {
     "name": "stdout",
     "output_type": "stream",
     "text": [
      "1\n"
     ]
    },
    {
     "data": {
      "text/plain": [
       "<matplotlib.image.AxesImage at 0x7f2c20a4b350>"
      ]
     },
     "execution_count": 156,
     "metadata": {},
     "output_type": "execute_result"
    },
    {
     "data": {
      "image/png": "[encoded data removed]",
      "text/plain": [
       "<matplotlib.figure.Figure at 0x7f2c25a70e90>"
      ]
     },
     "metadata": {},
     "output_type": "display_data"
    }
   ],
   "source": [
    "# TEST NP ARRAY\n",
    "\n",
    "%matplotlib inline\n",
    "i = 5\n",
    "print(df['use'][i])\n",
    "plt.imshow(imgs[i], cmap='gray')"
   ]
  },
  {
   "cell_type": "code",
   "execution_count": null,
   "metadata": {
    "collapsed": false
   },
   "outputs": [],
   "source": [
    "# EXPORT TO MAT\n",
    "\n",
    "imgs8 = np.asarray(a=imgs, dtype=np.uint8)\n",
    "sio.savemat(file_name=file_name, mdict={'images': imgs8})"
   ]
  },
  {
   "cell_type": "code",
   "execution_count": null,
   "metadata": {
    "collapsed": false
   },
   "outputs": [],
   "source": [
    "# TEST IMPORT\n",
    "\n",
    "inmat = sio.loadmat(file_name)\n",
    "plt.imshow(inmat['images'][5], cmap='gray')"
   ]
  },
  {
   "cell_type": "code",
   "execution_count": null,
   "metadata": {},
   "outputs": [],
   "source": [
    ""
   ]
  },
  {
   "cell_type": "code",
   "execution_count": null,
   "metadata": {},
   "outputs": [],
   "source": [
    ""
   ]
  },
  {
   "cell_type": "code",
   "execution_count": null,
   "metadata": {},
   "outputs": [],
   "source": [
    ""
   ]
  },
  {
   "cell_type": "code",
   "execution_count": 57,
   "metadata": {
    "collapsed": true
   },
   "outputs": [
    {
     "name": "stdout",
     "output_type": "stream",
     "text": [
      "0, "
     ]
    },
    {
     "name": "stdout",
     "output_type": "stream",
     "text": [
      "100, "
     ]
    },
    {
     "name": "stdout",
     "output_type": "stream",
     "text": [
      "200, "
     ]
    },
    {
     "name": "stdout",
     "output_type": "stream",
     "text": [
      "300, "
     ]
    },
    {
     "name": "stdout",
     "output_type": "stream",
     "text": [
      "400, "
     ]
    },
    {
     "name": "stdout",
     "output_type": "stream",
     "text": [
      "500, "
     ]
    },
    {
     "name": "stdout",
     "output_type": "stream",
     "text": [
      "600, "
     ]
    },
    {
     "name": "stdout",
     "output_type": "stream",
     "text": [
      "700, "
     ]
    },
    {
     "name": "stdout",
     "output_type": "stream",
     "text": [
      "800, "
     ]
    },
    {
     "name": "stdout",
     "output_type": "stream",
     "text": [
      "900, "
     ]
    },
    {
     "name": "stdout",
     "output_type": "stream",
     "text": [
      "1000, "
     ]
    },
    {
     "name": "stdout",
     "output_type": "stream",
     "text": [
      "1100, "
     ]
    },
    {
     "name": "stdout",
     "output_type": "stream",
     "text": [
      "1200, "
     ]
    },
    {
     "name": "stdout",
     "output_type": "stream",
     "text": [
      "1300, "
     ]
    },
    {
     "name": "stdout",
     "output_type": "stream",
     "text": [
      "1400, "
     ]
    },
    {
     "name": "stdout",
     "output_type": "stream",
     "text": [
      "1500, "
     ]
    },
    {
     "name": "stdout",
     "output_type": "stream",
     "text": [
      "1600, "
     ]
    },
    {
     "name": "stdout",
     "output_type": "stream",
     "text": [
      "1700, "
     ]
    },
    {
     "name": "stdout",
     "output_type": "stream",
     "text": [
      "1800, "
     ]
    },
    {
     "name": "stdout",
     "output_type": "stream",
     "text": [
      "1900, "
     ]
    },
    {
     "name": "stdout",
     "output_type": "stream",
     "text": [
      "2000, "
     ]
    },
    {
     "name": "stdout",
     "output_type": "stream",
     "text": [
      "2100, "
     ]
    },
    {
     "name": "stdout",
     "output_type": "stream",
     "text": [
      "2200, "
     ]
    },
    {
     "name": "stdout",
     "output_type": "stream",
     "text": [
      "2300, "
     ]
    },
    {
     "name": "stdout",
     "output_type": "stream",
     "text": [
      "2400, "
     ]
    },
    {
     "name": "stdout",
     "output_type": "stream",
     "text": [
      "2500, "
     ]
    },
    {
     "name": "stdout",
     "output_type": "stream",
     "text": [
      "2600, "
     ]
    },
    {
     "name": "stdout",
     "output_type": "stream",
     "text": [
      "2700, "
     ]
    },
    {
     "name": "stdout",
     "output_type": "stream",
     "text": [
      "2800, "
     ]
    },
    {
     "name": "stdout",
     "output_type": "stream",
     "text": [
      "2900, "
     ]
    },
    {
     "name": "stdout",
     "output_type": "stream",
     "text": [
      "3000, "
     ]
    },
    {
     "name": "stdout",
     "output_type": "stream",
     "text": [
      "3100, "
     ]
    },
    {
     "name": "stdout",
     "output_type": "stream",
     "text": [
      "3200, "
     ]
    },
    {
     "name": "stdout",
     "output_type": "stream",
     "text": [
      "3300, "
     ]
    },
    {
     "name": "stdout",
     "output_type": "stream",
     "text": [
      "3400, "
     ]
    },
    {
     "name": "stdout",
     "output_type": "stream",
     "text": [
      "3500, "
     ]
    },
    {
     "name": "stdout",
     "output_type": "stream",
     "text": [
      "3600, "
     ]
    },
    {
     "name": "stdout",
     "output_type": "stream",
     "text": [
      "3700, "
     ]
    },
    {
     "name": "stdout",
     "output_type": "stream",
     "text": [
      "3800, "
     ]
    },
    {
     "name": "stdout",
     "output_type": "stream",
     "text": [
      "3900, "
     ]
    },
    {
     "name": "stdout",
     "output_type": "stream",
     "text": [
      "4000, "
     ]
    },
    {
     "name": "stdout",
     "output_type": "stream",
     "text": [
      "4100, "
     ]
    },
    {
     "name": "stdout",
     "output_type": "stream",
     "text": [
      "4200, "
     ]
    },
    {
     "name": "stdout",
     "output_type": "stream",
     "text": [
      "4300, "
     ]
    },
    {
     "name": "stdout",
     "output_type": "stream",
     "text": [
      "4400, "
     ]
    },
    {
     "name": "stdout",
     "output_type": "stream",
     "text": [
      "4500, "
     ]
    },
    {
     "name": "stdout",
     "output_type": "stream",
     "text": [
      "4600, "
     ]
    },
    {
     "name": "stdout",
     "output_type": "stream",
     "text": [
      "4700, "
     ]
    },
    {
     "name": "stdout",
     "output_type": "stream",
     "text": [
      "4800, "
     ]
    },
    {
     "name": "stdout",
     "output_type": "stream",
     "text": [
      "4900, "
     ]
    },
    {
     "name": "stdout",
     "output_type": "stream",
     "text": [
      "5000, "
     ]
    },
    {
     "name": "stdout",
     "output_type": "stream",
     "text": [
      "5100, "
     ]
    },
    {
     "name": "stdout",
     "output_type": "stream",
     "text": [
      "5200, "
     ]
    },
    {
     "name": "stdout",
     "output_type": "stream",
     "text": [
      "5300, "
     ]
    },
    {
     "name": "stdout",
     "output_type": "stream",
     "text": [
      "5400, "
     ]
    },
    {
     "name": "stdout",
     "output_type": "stream",
     "text": [
      "5500, "
     ]
    },
    {
     "name": "stdout",
     "output_type": "stream",
     "text": [
      "5600, "
     ]
    },
    {
     "name": "stdout",
     "output_type": "stream",
     "text": [
      "5700, "
     ]
    },
    {
     "name": "stdout",
     "output_type": "stream",
     "text": [
      "5800, "
     ]
    },
    {
     "name": "stdout",
     "output_type": "stream",
     "text": [
      "5900, "
     ]
    },
    {
     "name": "stdout",
     "output_type": "stream",
     "text": [
      "6000, "
     ]
    },
    {
     "name": "stdout",
     "output_type": "stream",
     "text": [
      "6100, "
     ]
    },
    {
     "name": "stdout",
     "output_type": "stream",
     "text": [
      "6200, "
     ]
    },
    {
     "name": "stdout",
     "output_type": "stream",
     "text": [
      "6300, "
     ]
    },
    {
     "name": "stdout",
     "output_type": "stream",
     "text": [
      "6400, "
     ]
    },
    {
     "name": "stdout",
     "output_type": "stream",
     "text": [
      "6500, "
     ]
    },
    {
     "name": "stdout",
     "output_type": "stream",
     "text": [
      "6600, "
     ]
    },
    {
     "name": "stdout",
     "output_type": "stream",
     "text": [
      "6700, "
     ]
    },
    {
     "name": "stdout",
     "output_type": "stream",
     "text": [
      "6800, "
     ]
    },
    {
     "name": "stdout",
     "output_type": "stream",
     "text": [
      "6900, "
     ]
    },
    {
     "name": "stdout",
     "output_type": "stream",
     "text": [
      "7000, "
     ]
    },
    {
     "name": "stdout",
     "output_type": "stream",
     "text": [
      "7100, "
     ]
    },
    {
     "name": "stdout",
     "output_type": "stream",
     "text": [
      "7200, "
     ]
    },
    {
     "name": "stdout",
     "output_type": "stream",
     "text": [
      "7300, "
     ]
    },
    {
     "name": "stdout",
     "output_type": "stream",
     "text": [
      "7400, "
     ]
    },
    {
     "name": "stdout",
     "output_type": "stream",
     "text": [
      "7500, "
     ]
    },
    {
     "name": "stdout",
     "output_type": "stream",
     "text": [
      "7600, "
     ]
    },
    {
     "name": "stdout",
     "output_type": "stream",
     "text": [
      "7700, "
     ]
    },
    {
     "name": "stdout",
     "output_type": "stream",
     "text": [
      "7800, "
     ]
    },
    {
     "name": "stdout",
     "output_type": "stream",
     "text": [
      "7900, "
     ]
    },
    {
     "name": "stdout",
     "output_type": "stream",
     "text": [
      "8000, "
     ]
    },
    {
     "name": "stdout",
     "output_type": "stream",
     "text": [
      "8100, "
     ]
    },
    {
     "name": "stdout",
     "output_type": "stream",
     "text": [
      "8200, "
     ]
    },
    {
     "name": "stdout",
     "output_type": "stream",
     "text": [
      "8300, "
     ]
    },
    {
     "name": "stdout",
     "output_type": "stream",
     "text": [
      "8400, "
     ]
    },
    {
     "name": "stdout",
     "output_type": "stream",
     "text": [
      "8500, "
     ]
    },
    {
     "name": "stdout",
     "output_type": "stream",
     "text": [
      "8600, "
     ]
    },
    {
     "name": "stdout",
     "output_type": "stream",
     "text": [
      "8700, "
     ]
    },
    {
     "name": "stdout",
     "output_type": "stream",
     "text": [
      "8800, "
     ]
    },
    {
     "name": "stdout",
     "output_type": "stream",
     "text": [
      "8900, "
     ]
    },
    {
     "name": "stdout",
     "output_type": "stream",
     "text": [
      "9000, "
     ]
    },
    {
     "name": "stdout",
     "output_type": "stream",
     "text": [
      "9100, "
     ]
    },
    {
     "name": "stdout",
     "output_type": "stream",
     "text": [
      "9200, "
     ]
    },
    {
     "name": "stdout",
     "output_type": "stream",
     "text": [
      "9300, "
     ]
    },
    {
     "name": "stdout",
     "output_type": "stream",
     "text": [
      "9400, "
     ]
    },
    {
     "name": "stdout",
     "output_type": "stream",
     "text": [
      "9500, "
     ]
    },
    {
     "name": "stdout",
     "output_type": "stream",
     "text": [
      "9600, "
     ]
    },
    {
     "name": "stdout",
     "output_type": "stream",
     "text": [
      "9700, "
     ]
    },
    {
     "name": "stdout",
     "output_type": "stream",
     "text": [
      "9800, "
     ]
    },
    {
     "name": "stdout",
     "output_type": "stream",
     "text": [
      "9900, "
     ]
    },
    {
     "name": "stdout",
     "output_type": "stream",
     "text": [
      "10000, "
     ]
    },
    {
     "name": "stdout",
     "output_type": "stream",
     "text": [
      "10100, "
     ]
    },
    {
     "name": "stdout",
     "output_type": "stream",
     "text": [
      "10200, "
     ]
    },
    {
     "name": "stdout",
     "output_type": "stream",
     "text": [
      "10300, "
     ]
    },
    {
     "name": "stdout",
     "output_type": "stream",
     "text": [
      "10400, "
     ]
    },
    {
     "name": "stdout",
     "output_type": "stream",
     "text": [
      "10500, "
     ]
    },
    {
     "name": "stdout",
     "output_type": "stream",
     "text": [
      "10600, "
     ]
    },
    {
     "name": "stdout",
     "output_type": "stream",
     "text": [
      "10700, "
     ]
    },
    {
     "name": "stdout",
     "output_type": "stream",
     "text": [
      "10800, "
     ]
    },
    {
     "name": "stdout",
     "output_type": "stream",
     "text": [
      "10900, "
     ]
    },
    {
     "name": "stdout",
     "output_type": "stream",
     "text": [
      "11000, "
     ]
    },
    {
     "name": "stdout",
     "output_type": "stream",
     "text": [
      "11100, "
     ]
    },
    {
     "name": "stdout",
     "output_type": "stream",
     "text": [
      "11200, "
     ]
    },
    {
     "name": "stdout",
     "output_type": "stream",
     "text": [
      "11300, "
     ]
    },
    {
     "name": "stdout",
     "output_type": "stream",
     "text": [
      "11400, "
     ]
    },
    {
     "name": "stdout",
     "output_type": "stream",
     "text": [
      "11500, "
     ]
    },
    {
     "name": "stdout",
     "output_type": "stream",
     "text": [
      "11600, 11700, 11800, 11900, 12000, 12100, "
     ]
    },
    {
     "name": "stdout",
     "output_type": "stream",
     "text": [
      "12200, "
     ]
    },
    {
     "name": "stdout",
     "output_type": "stream",
     "text": [
      "12300, "
     ]
    },
    {
     "name": "stdout",
     "output_type": "stream",
     "text": [
      "12400, "
     ]
    },
    {
     "name": "stdout",
     "output_type": "stream",
     "text": [
      "12500, "
     ]
    },
    {
     "name": "stdout",
     "output_type": "stream",
     "text": [
      "12600, "
     ]
    },
    {
     "name": "stdout",
     "output_type": "stream",
     "text": [
      "12700, "
     ]
    },
    {
     "name": "stdout",
     "output_type": "stream",
     "text": [
      "12800, "
     ]
    },
    {
     "name": "stdout",
     "output_type": "stream",
     "text": [
      "12900, "
     ]
    },
    {
     "name": "stdout",
     "output_type": "stream",
     "text": [
      "13000, "
     ]
    },
    {
     "name": "stdout",
     "output_type": "stream",
     "text": [
      "13100, "
     ]
    },
    {
     "name": "stdout",
     "output_type": "stream",
     "text": [
      "13200, "
     ]
    },
    {
     "name": "stdout",
     "output_type": "stream",
     "text": [
      "13300, "
     ]
    },
    {
     "name": "stdout",
     "output_type": "stream",
     "text": [
      "13400, "
     ]
    },
    {
     "name": "stdout",
     "output_type": "stream",
     "text": [
      "13500, "
     ]
    },
    {
     "name": "stdout",
     "output_type": "stream",
     "text": [
      "13600, "
     ]
    },
    {
     "name": "stdout",
     "output_type": "stream",
     "text": [
      "13700, "
     ]
    },
    {
     "name": "stdout",
     "output_type": "stream",
     "text": [
      "13800, "
     ]
    },
    {
     "name": "stdout",
     "output_type": "stream",
     "text": [
      "13900, "
     ]
    },
    {
     "name": "stdout",
     "output_type": "stream",
     "text": [
      "14000, "
     ]
    },
    {
     "name": "stdout",
     "output_type": "stream",
     "text": [
      "14100, "
     ]
    },
    {
     "name": "stdout",
     "output_type": "stream",
     "text": [
      "14200, "
     ]
    },
    {
     "name": "stdout",
     "output_type": "stream",
     "text": [
      "14300, "
     ]
    },
    {
     "name": "stdout",
     "output_type": "stream",
     "text": [
      "14400, "
     ]
    },
    {
     "name": "stdout",
     "output_type": "stream",
     "text": [
      "14500, "
     ]
    },
    {
     "name": "stdout",
     "output_type": "stream",
     "text": [
      "14600, "
     ]
    },
    {
     "name": "stdout",
     "output_type": "stream",
     "text": [
      "14700, "
     ]
    },
    {
     "name": "stdout",
     "output_type": "stream",
     "text": [
      "14800, "
     ]
    },
    {
     "name": "stdout",
     "output_type": "stream",
     "text": [
      "14900, "
     ]
    },
    {
     "name": "stdout",
     "output_type": "stream",
     "text": [
      "15000, "
     ]
    },
    {
     "name": "stdout",
     "output_type": "stream",
     "text": [
      "15100, "
     ]
    },
    {
     "name": "stdout",
     "output_type": "stream",
     "text": [
      "15200, "
     ]
    },
    {
     "name": "stdout",
     "output_type": "stream",
     "text": [
      "15300, "
     ]
    },
    {
     "name": "stdout",
     "output_type": "stream",
     "text": [
      "15400, "
     ]
    },
    {
     "name": "stdout",
     "output_type": "stream",
     "text": [
      "15500, "
     ]
    },
    {
     "name": "stdout",
     "output_type": "stream",
     "text": [
      "15600, "
     ]
    },
    {
     "name": "stdout",
     "output_type": "stream",
     "text": [
      "15700, "
     ]
    },
    {
     "name": "stdout",
     "output_type": "stream",
     "text": [
      "15800, "
     ]
    },
    {
     "name": "stdout",
     "output_type": "stream",
     "text": [
      "15900, "
     ]
    },
    {
     "name": "stdout",
     "output_type": "stream",
     "text": [
      "16000, "
     ]
    },
    {
     "name": "stdout",
     "output_type": "stream",
     "text": [
      "16100, "
     ]
    },
    {
     "name": "stdout",
     "output_type": "stream",
     "text": [
      "16200, "
     ]
    },
    {
     "name": "stdout",
     "output_type": "stream",
     "text": [
      "16300, "
     ]
    },
    {
     "name": "stdout",
     "output_type": "stream",
     "text": [
      "16400, "
     ]
    },
    {
     "name": "stdout",
     "output_type": "stream",
     "text": [
      "16500, "
     ]
    },
    {
     "name": "stdout",
     "output_type": "stream",
     "text": [
      "16600, "
     ]
    },
    {
     "name": "stdout",
     "output_type": "stream",
     "text": [
      "16700, "
     ]
    },
    {
     "name": "stdout",
     "output_type": "stream",
     "text": [
      "16800, "
     ]
    },
    {
     "name": "stdout",
     "output_type": "stream",
     "text": [
      "16900, "
     ]
    },
    {
     "name": "stdout",
     "output_type": "stream",
     "text": [
      "17000, "
     ]
    },
    {
     "name": "stdout",
     "output_type": "stream",
     "text": [
      "17100, "
     ]
    },
    {
     "name": "stdout",
     "output_type": "stream",
     "text": [
      "17200, "
     ]
    },
    {
     "name": "stdout",
     "output_type": "stream",
     "text": [
      "17300, "
     ]
    },
    {
     "name": "stdout",
     "output_type": "stream",
     "text": [
      "17400, "
     ]
    },
    {
     "name": "stdout",
     "output_type": "stream",
     "text": [
      "17500, "
     ]
    },
    {
     "name": "stdout",
     "output_type": "stream",
     "text": [
      "17600, "
     ]
    },
    {
     "name": "stdout",
     "output_type": "stream",
     "text": [
      "17700, "
     ]
    },
    {
     "name": "stdout",
     "output_type": "stream",
     "text": [
      "17800, "
     ]
    },
    {
     "name": "stdout",
     "output_type": "stream",
     "text": [
      "17900, "
     ]
    },
    {
     "name": "stdout",
     "output_type": "stream",
     "text": [
      "18000, "
     ]
    },
    {
     "name": "stdout",
     "output_type": "stream",
     "text": [
      "18100, "
     ]
    },
    {
     "name": "stdout",
     "output_type": "stream",
     "text": [
      "18200, "
     ]
    },
    {
     "name": "stdout",
     "output_type": "stream",
     "text": [
      "18300, "
     ]
    },
    {
     "name": "stdout",
     "output_type": "stream",
     "text": [
      "18400, "
     ]
    },
    {
     "name": "stdout",
     "output_type": "stream",
     "text": [
      "18500, "
     ]
    },
    {
     "name": "stdout",
     "output_type": "stream",
     "text": [
      "18600, "
     ]
    },
    {
     "name": "stdout",
     "output_type": "stream",
     "text": [
      "18700, "
     ]
    },
    {
     "name": "stdout",
     "output_type": "stream",
     "text": [
      "18800, "
     ]
    },
    {
     "name": "stdout",
     "output_type": "stream",
     "text": [
      "18900, "
     ]
    },
    {
     "name": "stdout",
     "output_type": "stream",
     "text": [
      "19000, "
     ]
    },
    {
     "name": "stdout",
     "output_type": "stream",
     "text": [
      "19100, "
     ]
    },
    {
     "name": "stdout",
     "output_type": "stream",
     "text": [
      "19200, "
     ]
    },
    {
     "name": "stdout",
     "output_type": "stream",
     "text": [
      "19300, "
     ]
    }
   ],
   "source": [
    "# EXPORT TO JPEG FOLDER\n",
    "\n",
    "output_size = 48\n",
    "folder_name = 'adience/faces'+str(output_size)+'g/'\n",
    "for i in range(0, n):\n",
    "    if i%100==0:\n",
    "        sys.stdout.write(str(i)+\", \")\n",
    "    if df['use'][i]==1:\n",
    "        cv2.imwrite(\n",
    "            filename=folder_name+df['id'][i],\n",
    "            img=cv2.resize(\n",
    "                src=cv2.cvtColor(\n",
    "                    src=cv2.imread(df['id_orig'][i]),\n",
    "                    code=cv2.COLOR_BGR2GRAY)\n",
    "                    [df['box_x'][i]:df['box_x'][i]+df['box_s'][i],\n",
    "                    df['box_y'][i]:df['box_y'][i]+df['box_s'][i]],\n",
    "                dsize=(output_size,output_size),\n",
    "                interpolation=cv2.INTER_CUBIC),\n",
    "            params=(cv2.IMWRITE_JPEG_QUALITY,100)\n",
    "        )"
   ]
  },
  {
   "cell_type": "code",
   "execution_count": null,
   "metadata": {},
   "outputs": [],
   "source": [
    ""
   ]
  },
  {
   "cell_type": "code",
   "execution_count": 55,
   "metadata": {},
   "outputs": [
    {
     "name": "stdout",
     "output_type": "stream",
     "text": [
      "342\n"
     ]
    }
   ],
   "source": [
    "# TESTING JPEG WRITE\n",
    "\n",
    "i = 7;\n",
    "print(df['box_s'][i]);\n",
    "cv2.imwrite(\n",
    "    filename=folder_name+'test.jpg',\n",
    "    img=cv2.resize(\n",
    "        src=cv2.cvtColor(\n",
    "            src=cv2.imread(df['id_orig'][i]),\n",
    "            code=cv2.COLOR_BGR2GRAY)\n",
    "            [df['box_x'][i]:df['box_x'][i]+df['box_s'][i],\n",
    "            df['box_y'][i]:df['box_y'][i]+df['box_s'][i]],\n",
    "        dsize=(output_size,output_size),\n",
    "        interpolation=cv2.INTER_CUBIC),\n",
    "    params=(cv2.IMWRITE_JPEG_QUALITY,100)\n",
    ");"
   ]
  },
  {
   "cell_type": "code",
   "execution_count": null,
   "metadata": {},
   "outputs": [],
   "source": [
    ""
   ]
  },
  {
   "cell_type": "code",
   "execution_count": null,
   "metadata": {},
   "outputs": [],
   "source": [
    ""
   ]
  },
  {
   "cell_type": "code",
   "execution_count": null,
   "metadata": {},
   "outputs": [],
   "source": [
    ""
   ]
  },
  {
   "cell_type": "code",
   "execution_count": null,
   "metadata": {},
   "outputs": [],
   "source": [
    ""
   ]
  }
 ],
 "metadata": {
  "kernelspec": {
   "display_name": "Python 2",
   "language": "python",
   "name": "python2"
  },
  "language_info": {
   "codemirror_mode": {
    "name": "ipython",
    "version": 2.0
   },
   "file_extension": ".py",
   "mimetype": "text/x-python",
   "name": "python",
   "nbconvert_exporter": "python",
   "pygments_lexer": "ipython2",
   "version": "2.7.6"
  }
 },
 "nbformat": 4,
 "nbformat_minor": 0
}