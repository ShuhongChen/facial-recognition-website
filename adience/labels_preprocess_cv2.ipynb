{
 "cells": [
  {
   "cell_type": "code",
   "execution_count": 77,
   "metadata": {
    "collapsed": false
   },
   "outputs": [
    {
     "name": "stdout",
     "output_type": "stream",
     "text": [
      "19370\n"
     ]
    },
    {
     "data": {
      "text/html": [
       "<div>\n",
       "<table border=\"1\" class=\"dataframe\">\n",
       "  <thead>\n",
       "    <tr style=\"text-align: right;\">\n",
       "      <th></th>\n",
       "      <th>id</th>\n",
       "      <th>use</th>\n",
       "      <th>fold</th>\n",
       "      <th>sex_m</th>\n",
       "      <th>sex_f</th>\n",
       "      <th>age_class_0</th>\n",
       "      <th>age_class_1</th>\n",
       "      <th>age_class_2</th>\n",
       "      <th>age_class_3</th>\n",
       "      <th>age_class_4</th>\n",
       "      <th>age_class_5</th>\n",
       "      <th>age_class_6</th>\n",
       "      <th>age_class_7</th>\n",
       "      <th>id_orig</th>\n",
       "      <th>box_x</th>\n",
       "      <th>box_y</th>\n",
       "      <th>box_s</th>\n",
       "    </tr>\n",
       "  </thead>\n",
       "  <tbody>\n",
       "    <tr>\n",
       "      <th>0</th>\n",
       "      <td>00000.jpg</td>\n",
       "      <td>1</td>\n",
       "      <td>0</td>\n",
       "      <td>0.0</td>\n",
       "      <td>1.0</td>\n",
       "      <td>0</td>\n",
       "      <td>0</td>\n",
       "      <td>0</td>\n",
       "      <td>0</td>\n",
       "      <td>1</td>\n",
       "      <td>0</td>\n",
       "      <td>0</td>\n",
       "      <td>0</td>\n",
       "      <td>adience/faces/30601258@N03/coarse_tilt_aligned...</td>\n",
       "      <td>-1</td>\n",
       "      <td>-1</td>\n",
       "      <td>-1</td>\n",
       "    </tr>\n",
       "    <tr>\n",
       "      <th>1</th>\n",
       "      <td>00001.jpg</td>\n",
       "      <td>1</td>\n",
       "      <td>0</td>\n",
       "      <td>1.0</td>\n",
       "      <td>0.0</td>\n",
       "      <td>0</td>\n",
       "      <td>0</td>\n",
       "      <td>0</td>\n",
       "      <td>0</td>\n",
       "      <td>1</td>\n",
       "      <td>0</td>\n",
       "      <td>0</td>\n",
       "      <td>0</td>\n",
       "      <td>adience/faces/30601258@N03/coarse_tilt_aligned...</td>\n",
       "      <td>-1</td>\n",
       "      <td>-1</td>\n",
       "      <td>-1</td>\n",
       "    </tr>\n",
       "    <tr>\n",
       "      <th>2</th>\n",
       "      <td>00002.jpg</td>\n",
       "      <td>1</td>\n",
       "      <td>0</td>\n",
       "      <td>0.0</td>\n",
       "      <td>1.0</td>\n",
       "      <td>0</td>\n",
       "      <td>0</td>\n",
       "      <td>0</td>\n",
       "      <td>0</td>\n",
       "      <td>1</td>\n",
       "      <td>0</td>\n",
       "      <td>0</td>\n",
       "      <td>0</td>\n",
       "      <td>adience/faces/30601258@N03/coarse_tilt_aligned...</td>\n",
       "      <td>-1</td>\n",
       "      <td>-1</td>\n",
       "      <td>-1</td>\n",
       "    </tr>\n",
       "    <tr>\n",
       "      <th>3</th>\n",
       "      <td>00003.jpg</td>\n",
       "      <td>1</td>\n",
       "      <td>0</td>\n",
       "      <td>1.0</td>\n",
       "      <td>0.0</td>\n",
       "      <td>0</td>\n",
       "      <td>0</td>\n",
       "      <td>0</td>\n",
       "      <td>0</td>\n",
       "      <td>1</td>\n",
       "      <td>0</td>\n",
       "      <td>0</td>\n",
       "      <td>0</td>\n",
       "      <td>adience/faces/30601258@N03/coarse_tilt_aligned...</td>\n",
       "      <td>-1</td>\n",
       "      <td>-1</td>\n",
       "      <td>-1</td>\n",
       "    </tr>\n",
       "    <tr>\n",
       "      <th>4</th>\n",
       "      <td>00004.jpg</td>\n",
       "      <td>1</td>\n",
       "      <td>0</td>\n",
       "      <td>1.0</td>\n",
       "      <td>0.0</td>\n",
       "      <td>0</td>\n",
       "      <td>0</td>\n",
       "      <td>0</td>\n",
       "      <td>0</td>\n",
       "      <td>1</td>\n",
       "      <td>0</td>\n",
       "      <td>0</td>\n",
       "      <td>0</td>\n",
       "      <td>adience/faces/30601258@N03/coarse_tilt_aligned...</td>\n",
       "      <td>-1</td>\n",
       "      <td>-1</td>\n",
       "      <td>-1</td>\n",
       "    </tr>\n",
       "  </tbody>\n",
       "</table>\n",
       "</div>"
      ],
      "text/plain": [
       "<div>\n",
       "<table border=\"1\" class=\"dataframe\">\n",
       "  <thead>\n",
       "    <tr style=\"text-align: right;\">\n",
       "      <th></th>\n",
       "      <th>id</th>\n",
       "      <th>use</th>\n",
       "      <th>fold</th>\n",
       "      <th>sex_m</th>\n",
       "      <th>sex_f</th>\n",
       "      <th>age_class_0</th>\n",
       "      <th>age_class_1</th>\n",
       "      <th>age_class_2</th>\n",
       "      <th>age_class_3</th>\n",
       "      <th>age_class_4</th>\n",
       "      <th>age_class_5</th>\n",
       "      <th>age_class_6</th>\n",
       "      <th>age_class_7</th>\n",
       "      <th>id_orig</th>\n",
       "      <th>box_x</th>\n",
       "      <th>box_y</th>\n",
       "      <th>box_s</th>\n",
       "    </tr>\n",
       "  </thead>\n",
       "  <tbody>\n",
       "    <tr>\n",
       "      <th>0</th>\n",
       "      <td>00000.jpg</td>\n",
       "      <td>1</td>\n",
       "      <td>0</td>\n",
       "      <td>0.0</td>\n",
       "      <td>1.0</td>\n",
       "      <td>0</td>\n",
       "      <td>0</td>\n",
       "      <td>0</td>\n",
       "      <td>0</td>\n",
       "      <td>1</td>\n",
       "      <td>0</td>\n",
       "      <td>0</td>\n",
       "      <td>0</td>\n",
       "      <td>adience/faces/30601258@N03/coarse_tilt_aligned...</td>\n",
       "      <td>-1</td>\n",
       "      <td>-1</td>\n",
       "      <td>-1</td>\n",
       "    </tr>\n",
       "    <tr>\n",
       "      <th>1</th>\n",
       "      <td>00001.jpg</td>\n",
       "      <td>1</td>\n",
       "      <td>0</td>\n",
       "      <td>1.0</td>\n",
       "      <td>0.0</td>\n",
       "      <td>0</td>\n",
       "      <td>0</td>\n",
       "      <td>0</td>\n",
       "      <td>0</td>\n",
       "      <td>1</td>\n",
       "      <td>0</td>\n",
       "      <td>0</td>\n",
       "      <td>0</td>\n",
       "      <td>adience/faces/30601258@N03/coarse_tilt_aligned...</td>\n",
       "      <td>-1</td>\n",
       "      <td>-1</td>\n",
       "      <td>-1</td>\n",
       "    </tr>\n",
       "    <tr>\n",
       "      <th>2</th>\n",
       "      <td>00002.jpg</td>\n",
       "      <td>1</td>\n",
       "      <td>0</td>\n",
       "      <td>0.0</td>\n",
       "      <td>1.0</td>\n",
       "      <td>0</td>\n",
       "      <td>0</td>\n",
       "      <td>0</td>\n",
       "      <td>0</td>\n",
       "      <td>1</td>\n",
       "      <td>0</td>\n",
       "      <td>0</td>\n",
       "      <td>0</td>\n",
       "      <td>adience/faces/30601258@N03/coarse_tilt_aligned...</td>\n",
       "      <td>-1</td>\n",
       "      <td>-1</td>\n",
       "      <td>-1</td>\n",
       "    </tr>\n",
       "    <tr>\n",
       "      <th>3</th>\n",
       "      <td>00003.jpg</td>\n",
       "      <td>1</td>\n",
       "      <td>0</td>\n",
       "      <td>1.0</td>\n",
       "      <td>0.0</td>\n",
       "      <td>0</td>\n",
       "      <td>0</td>\n",
       "      <td>0</td>\n",
       "      <td>0</td>\n",
       "      <td>1</td>\n",
       "      <td>0</td>\n",
       "      <td>0</td>\n",
       "      <td>0</td>\n",
       "      <td>adience/faces/30601258@N03/coarse_tilt_aligned...</td>\n",
       "      <td>-1</td>\n",
       "      <td>-1</td>\n",
       "      <td>-1</td>\n",
       "    </tr>\n",
       "    <tr>\n",
       "      <th>4</th>\n",
       "      <td>00004.jpg</td>\n",
       "      <td>1</td>\n",
       "      <td>0</td>\n",
       "      <td>1.0</td>\n",
       "      <td>0.0</td>\n",
       "      <td>0</td>\n",
       "      <td>0</td>\n",
       "      <td>0</td>\n",
       "      <td>0</td>\n",
       "      <td>1</td>\n",
       "      <td>0</td>\n",
       "      <td>0</td>\n",
       "      <td>0</td>\n",
       "      <td>adience/faces/30601258@N03/coarse_tilt_aligned...</td>\n",
       "      <td>-1</td>\n",
       "      <td>-1</td>\n",
       "      <td>-1</td>\n",
       "    </tr>\n",
       "  </tbody>\n",
       "</table>\n",
       "</div>"
      ]
     },
     "execution_count": 77,
     "metadata": {},
     "output_type": "execute_result"
    }
   ],
   "source": [
    "import numpy as np\n",
    "import pandas as pd\n",
    "import cv2\n",
    "import random\n",
    "import sys\n",
    "\n",
    "face_cascade = cv2.CascadeClassifier('haarcascade_frontalface_default.xml')\n",
    "df = pd.read_csv('adience/labels.csv')\n",
    "n = len(df)\n",
    "print(n)\n",
    "\n",
    "df.head()"
   ]
  },
  {
   "cell_type": "code",
   "execution_count": 78,
   "metadata": {
    "collapsed": true
   },
   "outputs": [
    {
     "name": "stdout",
     "output_type": "stream",
     "text": [
      "0, "
     ]
    },
    {
     "name": "stdout",
     "output_type": "stream",
     "text": [
      "100, "
     ]
    },
    {
     "name": "stdout",
     "output_type": "stream",
     "text": [
      "200, "
     ]
    },
    {
     "name": "stdout",
     "output_type": "stream",
     "text": [
      "300, "
     ]
    },
    {
     "name": "stdout",
     "output_type": "stream",
     "text": [
      "400, "
     ]
    },
    {
     "name": "stdout",
     "output_type": "stream",
     "text": [
      "500, "
     ]
    },
    {
     "name": "stdout",
     "output_type": "stream",
     "text": [
      "600, "
     ]
    },
    {
     "name": "stdout",
     "output_type": "stream",
     "text": [
      "700, "
     ]
    },
    {
     "name": "stdout",
     "output_type": "stream",
     "text": [
      "800, "
     ]
    },
    {
     "name": "stdout",
     "output_type": "stream",
     "text": [
      "900, "
     ]
    },
    {
     "name": "stdout",
     "output_type": "stream",
     "text": [
      "1000, "
     ]
    },
    {
     "name": "stdout",
     "output_type": "stream",
     "text": [
      "1100, "
     ]
    },
    {
     "name": "stdout",
     "output_type": "stream",
     "text": [
      "1200, "
     ]
    },
    {
     "name": "stdout",
     "output_type": "stream",
     "text": [
      "1300, "
     ]
    },
    {
     "name": "stdout",
     "output_type": "stream",
     "text": [
      "1400, "
     ]
    },
    {
     "name": "stdout",
     "output_type": "stream",
     "text": [
      "1500, "
     ]
    },
    {
     "name": "stdout",
     "output_type": "stream",
     "text": [
      "1600, "
     ]
    },
    {
     "name": "stdout",
     "output_type": "stream",
     "text": [
      "1700, "
     ]
    },
    {
     "name": "stdout",
     "output_type": "stream",
     "text": [
      "1800, "
     ]
    },
    {
     "name": "stdout",
     "output_type": "stream",
     "text": [
      "1900, "
     ]
    },
    {
     "name": "stdout",
     "output_type": "stream",
     "text": [
      "2000, "
     ]
    },
    {
     "name": "stdout",
     "output_type": "stream",
     "text": [
      "2100, "
     ]
    },
    {
     "name": "stdout",
     "output_type": "stream",
     "text": [
      "2200, "
     ]
    },
    {
     "name": "stdout",
     "output_type": "stream",
     "text": [
      "2300, "
     ]
    },
    {
     "name": "stdout",
     "output_type": "stream",
     "text": [
      "2400, "
     ]
    },
    {
     "name": "stdout",
     "output_type": "stream",
     "text": [
      "2500, "
     ]
    },
    {
     "name": "stdout",
     "output_type": "stream",
     "text": [
      "2600, "
     ]
    },
    {
     "name": "stdout",
     "output_type": "stream",
     "text": [
      "2700, "
     ]
    },
    {
     "name": "stdout",
     "output_type": "stream",
     "text": [
      "2800, "
     ]
    },
    {
     "name": "stdout",
     "output_type": "stream",
     "text": [
      "2900, "
     ]
    },
    {
     "name": "stdout",
     "output_type": "stream",
     "text": [
      "3000, "
     ]
    },
    {
     "name": "stdout",
     "output_type": "stream",
     "text": [
      "3100, "
     ]
    },
    {
     "name": "stdout",
     "output_type": "stream",
     "text": [
      "3200, "
     ]
    },
    {
     "name": "stdout",
     "output_type": "stream",
     "text": [
      "3300, "
     ]
    },
    {
     "name": "stdout",
     "output_type": "stream",
     "text": [
      "3400, "
     ]
    },
    {
     "name": "stdout",
     "output_type": "stream",
     "text": [
      "3500, "
     ]
    },
    {
     "name": "stdout",
     "output_type": "stream",
     "text": [
      "3600, "
     ]
    },
    {
     "name": "stdout",
     "output_type": "stream",
     "text": [
      "3700, "
     ]
    },
    {
     "name": "stdout",
     "output_type": "stream",
     "text": [
      "3800, "
     ]
    },
    {
     "name": "stdout",
     "output_type": "stream",
     "text": [
      "3900, "
     ]
    },
    {
     "name": "stdout",
     "output_type": "stream",
     "text": [
      "4000, "
     ]
    },
    {
     "name": "stdout",
     "output_type": "stream",
     "text": [
      "4100, "
     ]
    },
    {
     "name": "stdout",
     "output_type": "stream",
     "text": [
      "4200, "
     ]
    },
    {
     "name": "stdout",
     "output_type": "stream",
     "text": [
      "4300, "
     ]
    },
    {
     "name": "stdout",
     "output_type": "stream",
     "text": [
      "4400, "
     ]
    },
    {
     "name": "stdout",
     "output_type": "stream",
     "text": [
      "4500, "
     ]
    },
    {
     "name": "stdout",
     "output_type": "stream",
     "text": [
      "4600, "
     ]
    },
    {
     "name": "stdout",
     "output_type": "stream",
     "text": [
      "4700, "
     ]
    },
    {
     "name": "stdout",
     "output_type": "stream",
     "text": [
      "4800, "
     ]
    },
    {
     "name": "stdout",
     "output_type": "stream",
     "text": [
      "4900, "
     ]
    },
    {
     "name": "stdout",
     "output_type": "stream",
     "text": [
      "5000, "
     ]
    },
    {
     "name": "stdout",
     "output_type": "stream",
     "text": [
      "5100, "
     ]
    },
    {
     "name": "stdout",
     "output_type": "stream",
     "text": [
      "5200, "
     ]
    },
    {
     "name": "stdout",
     "output_type": "stream",
     "text": [
      "5300, "
     ]
    },
    {
     "name": "stdout",
     "output_type": "stream",
     "text": [
      "5400, "
     ]
    },
    {
     "name": "stdout",
     "output_type": "stream",
     "text": [
      "5500, "
     ]
    },
    {
     "name": "stdout",
     "output_type": "stream",
     "text": [
      "5600, "
     ]
    },
    {
     "name": "stdout",
     "output_type": "stream",
     "text": [
      "5700, "
     ]
    },
    {
     "name": "stdout",
     "output_type": "stream",
     "text": [
      "5800, "
     ]
    },
    {
     "name": "stdout",
     "output_type": "stream",
     "text": [
      "5900, "
     ]
    },
    {
     "name": "stdout",
     "output_type": "stream",
     "text": [
      "6000, "
     ]
    },
    {
     "name": "stdout",
     "output_type": "stream",
     "text": [
      "6100, "
     ]
    },
    {
     "name": "stdout",
     "output_type": "stream",
     "text": [
      "6200, "
     ]
    },
    {
     "name": "stdout",
     "output_type": "stream",
     "text": [
      "6300, "
     ]
    },
    {
     "name": "stdout",
     "output_type": "stream",
     "text": [
      "6400, "
     ]
    },
    {
     "name": "stdout",
     "output_type": "stream",
     "text": [
      "6500, "
     ]
    },
    {
     "name": "stdout",
     "output_type": "stream",
     "text": [
      "6600, "
     ]
    },
    {
     "name": "stdout",
     "output_type": "stream",
     "text": [
      "6700, "
     ]
    },
    {
     "name": "stdout",
     "output_type": "stream",
     "text": [
      "6800, "
     ]
    },
    {
     "name": "stdout",
     "output_type": "stream",
     "text": [
      "6900, "
     ]
    },
    {
     "name": "stdout",
     "output_type": "stream",
     "text": [
      "7000, "
     ]
    },
    {
     "name": "stdout",
     "output_type": "stream",
     "text": [
      "7100, "
     ]
    },
    {
     "name": "stdout",
     "output_type": "stream",
     "text": [
      "7200, "
     ]
    },
    {
     "name": "stdout",
     "output_type": "stream",
     "text": [
      "7300, "
     ]
    },
    {
     "name": "stdout",
     "output_type": "stream",
     "text": [
      "7400, "
     ]
    },
    {
     "name": "stdout",
     "output_type": "stream",
     "text": [
      "7500, "
     ]
    },
    {
     "name": "stdout",
     "output_type": "stream",
     "text": [
      "7600, "
     ]
    },
    {
     "name": "stdout",
     "output_type": "stream",
     "text": [
      "7700, "
     ]
    },
    {
     "name": "stdout",
     "output_type": "stream",
     "text": [
      "7800, "
     ]
    },
    {
     "name": "stdout",
     "output_type": "stream",
     "text": [
      "7900, "
     ]
    },
    {
     "name": "stdout",
     "output_type": "stream",
     "text": [
      "8000, "
     ]
    },
    {
     "name": "stdout",
     "output_type": "stream",
     "text": [
      "8100, "
     ]
    },
    {
     "name": "stdout",
     "output_type": "stream",
     "text": [
      "8200, "
     ]
    },
    {
     "name": "stdout",
     "output_type": "stream",
     "text": [
      "8300, "
     ]
    },
    {
     "name": "stdout",
     "output_type": "stream",
     "text": [
      "8400, "
     ]
    },
    {
     "name": "stdout",
     "output_type": "stream",
     "text": [
      "8500, "
     ]
    },
    {
     "name": "stdout",
     "output_type": "stream",
     "text": [
      "8600, "
     ]
    },
    {
     "name": "stdout",
     "output_type": "stream",
     "text": [
      "8700, "
     ]
    },
    {
     "name": "stdout",
     "output_type": "stream",
     "text": [
      "8800, "
     ]
    },
    {
     "name": "stdout",
     "output_type": "stream",
     "text": [
      "8900, "
     ]
    },
    {
     "name": "stdout",
     "output_type": "stream",
     "text": [
      "9000, "
     ]
    },
    {
     "name": "stdout",
     "output_type": "stream",
     "text": [
      "9100, "
     ]
    },
    {
     "name": "stdout",
     "output_type": "stream",
     "text": [
      "9200, "
     ]
    },
    {
     "name": "stdout",
     "output_type": "stream",
     "text": [
      "9300, "
     ]
    },
    {
     "name": "stdout",
     "output_type": "stream",
     "text": [
      "9400, "
     ]
    },
    {
     "name": "stdout",
     "output_type": "stream",
     "text": [
      "9500, "
     ]
    },
    {
     "name": "stdout",
     "output_type": "stream",
     "text": [
      "9600, "
     ]
    },
    {
     "name": "stdout",
     "output_type": "stream",
     "text": [
      "9700, "
     ]
    },
    {
     "name": "stdout",
     "output_type": "stream",
     "text": [
      "9800, "
     ]
    },
    {
     "name": "stdout",
     "output_type": "stream",
     "text": [
      "9900, "
     ]
    },
    {
     "name": "stdout",
     "output_type": "stream",
     "text": [
      "10000, "
     ]
    },
    {
     "name": "stdout",
     "output_type": "stream",
     "text": [
      "10100, "
     ]
    },
    {
     "name": "stdout",
     "output_type": "stream",
     "text": [
      "10200, "
     ]
    },
    {
     "name": "stdout",
     "output_type": "stream",
     "text": [
      "10300, "
     ]
    },
    {
     "name": "stdout",
     "output_type": "stream",
     "text": [
      "10400, "
     ]
    },
    {
     "name": "stdout",
     "output_type": "stream",
     "text": [
      "10500, "
     ]
    },
    {
     "name": "stdout",
     "output_type": "stream",
     "text": [
      "10600, "
     ]
    },
    {
     "name": "stdout",
     "output_type": "stream",
     "text": [
      "10700, "
     ]
    },
    {
     "name": "stdout",
     "output_type": "stream",
     "text": [
      "10800, "
     ]
    },
    {
     "name": "stdout",
     "output_type": "stream",
     "text": [
      "10900, "
     ]
    },
    {
     "name": "stdout",
     "output_type": "stream",
     "text": [
      "11000, "
     ]
    },
    {
     "name": "stdout",
     "output_type": "stream",
     "text": [
      "11100, "
     ]
    },
    {
     "name": "stdout",
     "output_type": "stream",
     "text": [
      "11200, "
     ]
    },
    {
     "name": "stdout",
     "output_type": "stream",
     "text": [
      "11300, "
     ]
    },
    {
     "name": "stdout",
     "output_type": "stream",
     "text": [
      "11400, "
     ]
    },
    {
     "name": "stdout",
     "output_type": "stream",
     "text": [
      "11500, "
     ]
    },
    {
     "name": "stdout",
     "output_type": "stream",
     "text": [
      "11600, "
     ]
    },
    {
     "name": "stdout",
     "output_type": "stream",
     "text": [
      "11700, "
     ]
    },
    {
     "name": "stdout",
     "output_type": "stream",
     "text": [
      "11800, "
     ]
    },
    {
     "name": "stdout",
     "output_type": "stream",
     "text": [
      "11900, "
     ]
    },
    {
     "name": "stdout",
     "output_type": "stream",
     "text": [
      "12000, "
     ]
    },
    {
     "name": "stdout",
     "output_type": "stream",
     "text": [
      "12100, "
     ]
    },
    {
     "name": "stdout",
     "output_type": "stream",
     "text": [
      "12200, "
     ]
    },
    {
     "name": "stdout",
     "output_type": "stream",
     "text": [
      "12300, "
     ]
    },
    {
     "name": "stdout",
     "output_type": "stream",
     "text": [
      "12400, "
     ]
    },
    {
     "name": "stdout",
     "output_type": "stream",
     "text": [
      "12500, "
     ]
    },
    {
     "name": "stdout",
     "output_type": "stream",
     "text": [
      "12600, "
     ]
    },
    {
     "name": "stdout",
     "output_type": "stream",
     "text": [
      "12700, "
     ]
    },
    {
     "name": "stdout",
     "output_type": "stream",
     "text": [
      "12800, "
     ]
    },
    {
     "name": "stdout",
     "output_type": "stream",
     "text": [
      "12900, "
     ]
    },
    {
     "name": "stdout",
     "output_type": "stream",
     "text": [
      "13000, "
     ]
    },
    {
     "name": "stdout",
     "output_type": "stream",
     "text": [
      "13100, "
     ]
    },
    {
     "name": "stdout",
     "output_type": "stream",
     "text": [
      "13200, "
     ]
    },
    {
     "name": "stdout",
     "output_type": "stream",
     "text": [
      "13300, "
     ]
    },
    {
     "name": "stdout",
     "output_type": "stream",
     "text": [
      "13400, "
     ]
    },
    {
     "name": "stdout",
     "output_type": "stream",
     "text": [
      "13500, "
     ]
    },
    {
     "name": "stdout",
     "output_type": "stream",
     "text": [
      "13600, "
     ]
    },
    {
     "name": "stdout",
     "output_type": "stream",
     "text": [
      "13700, "
     ]
    },
    {
     "name": "stdout",
     "output_type": "stream",
     "text": [
      "13800, "
     ]
    },
    {
     "name": "stdout",
     "output_type": "stream",
     "text": [
      "13900, "
     ]
    },
    {
     "name": "stdout",
     "output_type": "stream",
     "text": [
      "14000, "
     ]
    },
    {
     "name": "stdout",
     "output_type": "stream",
     "text": [
      "14100, "
     ]
    },
    {
     "name": "stdout",
     "output_type": "stream",
     "text": [
      "14200, "
     ]
    },
    {
     "name": "stdout",
     "output_type": "stream",
     "text": [
      "14300, "
     ]
    },
    {
     "name": "stdout",
     "output_type": "stream",
     "text": [
      "14400, "
     ]
    },
    {
     "name": "stdout",
     "output_type": "stream",
     "text": [
      "14500, "
     ]
    },
    {
     "name": "stdout",
     "output_type": "stream",
     "text": [
      "14600, "
     ]
    },
    {
     "name": "stdout",
     "output_type": "stream",
     "text": [
      "14700, "
     ]
    },
    {
     "name": "stdout",
     "output_type": "stream",
     "text": [
      "14800, "
     ]
    },
    {
     "name": "stdout",
     "output_type": "stream",
     "text": [
      "14900, "
     ]
    },
    {
     "name": "stdout",
     "output_type": "stream",
     "text": [
      "15000, "
     ]
    },
    {
     "name": "stdout",
     "output_type": "stream",
     "text": [
      "15100, "
     ]
    },
    {
     "name": "stdout",
     "output_type": "stream",
     "text": [
      "15200, "
     ]
    },
    {
     "name": "stdout",
     "output_type": "stream",
     "text": [
      "15300, "
     ]
    },
    {
     "name": "stdout",
     "output_type": "stream",
     "text": [
      "15400, "
     ]
    },
    {
     "name": "stdout",
     "output_type": "stream",
     "text": [
      "15500, "
     ]
    },
    {
     "name": "stdout",
     "output_type": "stream",
     "text": [
      "15600, "
     ]
    },
    {
     "name": "stdout",
     "output_type": "stream",
     "text": [
      "15700, "
     ]
    },
    {
     "name": "stdout",
     "output_type": "stream",
     "text": [
      "15800, "
     ]
    },
    {
     "name": "stdout",
     "output_type": "stream",
     "text": [
      "15900, "
     ]
    },
    {
     "name": "stdout",
     "output_type": "stream",
     "text": [
      "16000, "
     ]
    },
    {
     "name": "stdout",
     "output_type": "stream",
     "text": [
      "16100, "
     ]
    },
    {
     "name": "stdout",
     "output_type": "stream",
     "text": [
      "16200, "
     ]
    },
    {
     "name": "stdout",
     "output_type": "stream",
     "text": [
      "16300, "
     ]
    },
    {
     "name": "stdout",
     "output_type": "stream",
     "text": [
      "16400, "
     ]
    },
    {
     "name": "stdout",
     "output_type": "stream",
     "text": [
      "16500, "
     ]
    },
    {
     "name": "stdout",
     "output_type": "stream",
     "text": [
      "16600, "
     ]
    },
    {
     "name": "stdout",
     "output_type": "stream",
     "text": [
      "16700, "
     ]
    },
    {
     "name": "stdout",
     "output_type": "stream",
     "text": [
      "16800, "
     ]
    },
    {
     "name": "stdout",
     "output_type": "stream",
     "text": [
      "16900, "
     ]
    },
    {
     "name": "stdout",
     "output_type": "stream",
     "text": [
      "17000, "
     ]
    },
    {
     "name": "stdout",
     "output_type": "stream",
     "text": [
      "17100, "
     ]
    },
    {
     "name": "stdout",
     "output_type": "stream",
     "text": [
      "17200, "
     ]
    },
    {
     "name": "stdout",
     "output_type": "stream",
     "text": [
      "17300, "
     ]
    },
    {
     "name": "stdout",
     "output_type": "stream",
     "text": [
      "17400, "
     ]
    },
    {
     "name": "stdout",
     "output_type": "stream",
     "text": [
      "17500, "
     ]
    },
    {
     "name": "stdout",
     "output_type": "stream",
     "text": [
      "17600, "
     ]
    },
    {
     "name": "stdout",
     "output_type": "stream",
     "text": [
      "17700, "
     ]
    },
    {
     "name": "stdout",
     "output_type": "stream",
     "text": [
      "17800, "
     ]
    },
    {
     "name": "stdout",
     "output_type": "stream",
     "text": [
      "17900, "
     ]
    },
    {
     "name": "stdout",
     "output_type": "stream",
     "text": [
      "18000, "
     ]
    },
    {
     "name": "stdout",
     "output_type": "stream",
     "text": [
      "18100, "
     ]
    },
    {
     "name": "stdout",
     "output_type": "stream",
     "text": [
      "18200, "
     ]
    },
    {
     "name": "stdout",
     "output_type": "stream",
     "text": [
      "18300, "
     ]
    },
    {
     "name": "stdout",
     "output_type": "stream",
     "text": [
      "18400, "
     ]
    },
    {
     "name": "stdout",
     "output_type": "stream",
     "text": [
      "18500, "
     ]
    },
    {
     "name": "stdout",
     "output_type": "stream",
     "text": [
      "18600, "
     ]
    },
    {
     "name": "stdout",
     "output_type": "stream",
     "text": [
      "18700, "
     ]
    },
    {
     "name": "stdout",
     "output_type": "stream",
     "text": [
      "18800, "
     ]
    },
    {
     "name": "stdout",
     "output_type": "stream",
     "text": [
      "18900, "
     ]
    },
    {
     "name": "stdout",
     "output_type": "stream",
     "text": [
      "19000, "
     ]
    },
    {
     "name": "stdout",
     "output_type": "stream",
     "text": [
      "19100, "
     ]
    },
    {
     "name": "stdout",
     "output_type": "stream",
     "text": [
      "19200, "
     ]
    },
    {
     "name": "stdout",
     "output_type": "stream",
     "text": [
      "19300, "
     ]
    },
    {
     "name": "stdout",
     "output_type": "stream",
     "text": [
      "63.1533333333\n58.8433333333\n"
     ]
    }
   ],
   "source": [
    "# HAAR\n",
    "total_usable = 0.0\n",
    "total_faces = 0.0\n",
    "\n",
    "scaleFactor=1.1\n",
    "minNeighbors=3\n",
    "\n",
    "for i in range(0, n):\n",
    "    if (i%100==0): sys.stdout.write(str(i)+\", \");\n",
    "    img = cv2.imread(df['id_orig'][i])\n",
    "    gray = cv2.cvtColor(img, cv2.COLOR_BGR2GRAY)\n",
    "    minSize = img.shape[0]/5\n",
    "    \n",
    "    faces = face_cascade.detectMultiScale(gray,\n",
    "        scaleFactor=scaleFactor, minNeighbors=minNeighbors,\n",
    "        minSize=(minSize, minSize))\n",
    "    \n",
    "    total_faces += len(faces)\n",
    "    if (len(faces) == 1):\n",
    "        total_usable += 1\n",
    "        df.set_value(i, 'box_x', faces[0][0])\n",
    "        df.set_value(i, 'box_y', faces[0][1])\n",
    "        df.set_value(i, 'box_s', faces[0][2])\n",
    "    else:\n",
    "        df.set_value(i, 'use', 0)\n",
    "    \n",
    "print(total_faces/n)\n",
    "print(total_usable/n)"
   ]
  },
  {
   "cell_type": "code",
   "execution_count": 80,
   "metadata": {},
   "outputs": [],
   "source": [
    "df.to_csv('adience/labels.csv', sep=',', index=False, encoding='utf-8')"
   ]
  },
  {
   "cell_type": "code",
   "execution_count": 1,
   "metadata": {},
   "outputs": [],
   "source": [
    ""
   ]
  },
  {
   "cell_type": "code",
   "execution_count": 19,
   "metadata": {
    "collapsed": true
   },
   "outputs": [],
   "source": [
    "# REMOVE BABES\n",
    "\n",
    "import pandas as pd\n",
    "\n",
    "df_b = pd.read_csv('adience/labels.csv')\n",
    "for i in range(0, len(df_b)):\n",
    "    if df_b['sex_m'][i] == 0.5:\n",
    "        df_b.set_value(col='use', index=i, value=0)\n",
    "\n",
    "df_b.to_csv('adience/labels_nobabes.csv', sep=',', index=False, encoding='utf-8')"
   ]
  },
  {
   "cell_type": "code",
   "execution_count": 20,
   "metadata": {},
   "outputs": [
    {
     "data": {
      "text/plain": [
       "15982"
      ]
     },
     "execution_count": 20,
     "metadata": {},
     "output_type": "execute_result"
    }
   ],
   "source": [
    "sum(df_b['use'])"
   ]
  },
  {
   "cell_type": "code",
   "execution_count": null,
   "metadata": {},
   "outputs": [],
   "source": [
    ""
   ]
  },
  {
   "cell_type": "code",
   "execution_count": null,
   "metadata": {},
   "outputs": [],
   "source": [
    ""
   ]
  },
  {
   "cell_type": "code",
   "execution_count": 74,
   "metadata": {},
   "outputs": [],
   "source": [
    "# TEST BOX INDEX\n",
    "\n",
    "j = 10\n",
    "img = cv2.imread(df['id_orig'][j])\n",
    "x = df['box_x'][j]\n",
    "y = df['box_y'][j]\n",
    "s = df['box_s'][j]\n",
    "\n",
    "gray = cv2.cvtColor(img, cv2.COLOR_BGR2GRAY)\n",
    "box = gray[x:x+s,y:y+s]\n",
    "\n",
    "cv2.imwrite('box_index_test.jpg', box, params=(cv2.IMWRITE_JPEG_QUALITY,100));"
   ]
  },
  {
   "cell_type": "code",
   "execution_count": 2,
   "metadata": {
    "collapsed": true
   },
   "outputs": [
    {
     "name": "stdout",
     "output_type": "stream",
     "text": [
      "(370, 370)\n"
     ]
    },
    {
     "data": {
      "text/plain": [
       "-1"
      ]
     },
     "execution_count": 2,
     "metadata": {},
     "output_type": "execute_result"
    }
   ],
   "source": [
    "# TEST RESIZING\n",
    "\n",
    "img = cv2.imread(df['id_orig'][2])\n",
    "gray = cv2.cvtColor(img, cv2.COLOR_BGR2GRAY)\n",
    "scaleFactor=1.1\n",
    "minNeighbors=3\n",
    "minSize = img.shape[0]/5\n",
    "faces = face_cascade.detectMultiScale(gray,\n",
    "    scaleFactor=scaleFactor, minNeighbors=minNeighbors,\n",
    "    minSize=(minSize, minSize))\n",
    "\n",
    "for (x,y,w,h) in faces:\n",
    "    print(w, h)\n",
    "    box = img[x:x+w,y:y+h]\n",
    "    cv2.imshow('box_img', box)\n",
    "    cv2.waitKey()\n",
    "    \n",
    "resize = cv2.resize(src=box, dsize=(64,64), interpolation=cv2.INTER_CUBIC)\n",
    "cv2.imshow('resize_img', resize)\n",
    "cv2.waitKey()"
   ]
  },
  {
   "cell_type": "code",
   "execution_count": 14,
   "metadata": {
    "collapsed": true
   },
   "outputs": [
    {
     "name": "stdout",
     "output_type": "stream",
     "text": [
      "0, "
     ]
    },
    {
     "name": "stdout",
     "output_type": "stream",
     "text": [
      "100, "
     ]
    },
    {
     "name": "stdout",
     "output_type": "stream",
     "text": [
      "200, "
     ]
    },
    {
     "name": "stdout",
     "output_type": "stream",
     "text": [
      "0.973333333333\n0.0\n"
     ]
    }
   ],
   "source": [
    "# TEST PARAMS AND USABLE FACES\n",
    "\n",
    "total_usable = 0.0\n",
    "total_faces = 0.0\n",
    "samp_size = 1000\n",
    "\n",
    "scaleFactor=1.1\n",
    "minNeighbors=3\n",
    "\n",
    "for i in range(0, samp_size):\n",
    "    if (i%100==0): sys.stdout.write(str(i)+\", \");\n",
    "    j = random.randint(0, n-1)\n",
    "    img = cv2.imread(df['id_orig'][j])\n",
    "    gray = cv2.cvtColor(img, cv2.COLOR_BGR2GRAY)\n",
    "    minSize = img.shape[0]/5\n",
    "    \n",
    "    faces = face_cascade.detectMultiScale(gray,\n",
    "        scaleFactor=scaleFactor, minNeighbors=minNeighbors,\n",
    "        minSize=(minSize, minSize))\n",
    "    \n",
    "    total_faces += len(faces)\n",
    "    if (len(faces) == 1):\n",
    "        total_usable += 1\n",
    "    \n",
    "print(total_faces/samp_size)\n",
    "print(total_usable/samp_size)"
   ]
  },
  {
   "cell_type": "code",
   "execution_count": 2,
   "metadata": {
    "collapsed": true
   },
   "outputs": [
    {
     "name": "stdout",
     "output_type": "stream",
     "text": [
      "(339, 339)\n"
     ]
    },
    {
     "data": {
      "text/plain": [
       "-1"
      ]
     },
     "execution_count": 2,
     "metadata": {},
     "output_type": "execute_result"
    }
   ],
   "source": [
    "# TESTING DISPLAY IMAGE\n",
    "\n",
    "img = cv2.imread(df['id_orig'][100])\n",
    "gray = cv2.cvtColor(img, cv2.COLOR_BGR2GRAY)\n",
    "scaleFactor=1.1\n",
    "minNeighbors=3\n",
    "minSize = img.shape[0]/5\n",
    "faces = face_cascade.detectMultiScale(gray,\n",
    "    scaleFactor=scaleFactor, minNeighbors=minNeighbors,\n",
    "    minSize=(minSize, minSize))\n",
    "\n",
    "for (x,y,w,h) in faces:\n",
    "    cv2.rectangle(img,(x,y),(x+w,y+h),(255,0,0),2)\n",
    "    print(w, h)\n",
    "    \n",
    "cv2.imshow('img', img)\n",
    "cv2.waitKey(1000)"
   ]
  },
  {
   "cell_type": "code",
   "execution_count": null,
   "metadata": {},
   "outputs": [],
   "source": [
    "# TEST DATAFRAME FILLING\n",
    "pdf = pd.DataFrame(np.random.randn(3,4), columns=['a','b','c','d'])\n",
    "pdf['e'] = np.full((3,1), -1)\n",
    "pdf['f'] = np.full((3,1), -2)\n",
    "pdf.head()\n",
    "\n",
    "# TEST WRITE DF TO CSV\n",
    "pdf.to_csv('adience/pdf_test.csv', sep=',', index=False, encoding='utf-8')"
   ]
  },
  {
   "cell_type": "code",
   "execution_count": 26,
   "metadata": {
    "collapsed": true
   },
   "outputs": [
    {
     "name": "stdout",
     "output_type": "stream",
     "text": [
      "0342.jpg\n"
     ]
    }
   ],
   "source": [
    "# TEST ZFILL INDEXING\n",
    "print(str(342).zfill(4)+'.jpg')"
   ]
  },
  {
   "cell_type": "code",
   "execution_count": 366,
   "metadata": {
    "collapsed": true
   },
   "outputs": [
    {
     "name": "stdout",
     "output_type": "stream",
     "text": [
      "(412, 412)\n"
     ]
    },
    {
     "data": {
      "text/plain": [
       "True"
      ]
     },
     "execution_count": 366,
     "metadata": {},
     "output_type": "execute_result"
    }
   ],
   "source": [
    "# TEST WRITE JPG\n",
    "img = cv2.imread(df['id_orig'][random.randint(0, n-1)])\n",
    "#img = cv2.imread('obama.jpg')\n",
    "gray = cv2.cvtColor(img, cv2.COLOR_BGR2GRAY)\n",
    "scaleFactor=1.1\n",
    "minNeighbors=3\n",
    "minSize = img.shape[0]/5\n",
    "faces = face_cascade.detectMultiScale(gray,\n",
    "    scaleFactor=scaleFactor, minNeighbors=minNeighbors,\n",
    "    minSize=(minSize, minSize))\n",
    "\n",
    "for (x,y,w,h) in faces:\n",
    "    #print(w, h)\n",
    "    box = gray[x:x+w,y:y+h]\n",
    "resize = cv2.resize(src=box, dsize=(32,32), interpolation=cv2.INTER_CUBIC)\n",
    "\n",
    "cv2.imwrite('orig_img_test.jpg', gray, params=(cv2.IMWRITE_JPEG_QUALITY,100))\n",
    "cv2.imwrite('box_img_test.jpg', box, params=(cv2.IMWRITE_JPEG_QUALITY,100))\n",
    "cv2.imwrite('resize_img_test.jpg', resize, params=(cv2.IMWRITE_JPEG_QUALITY,100));"
   ]
  },
  {
   "cell_type": "code",
   "execution_count": null,
   "metadata": {},
   "outputs": [],
   "source": [
    ""
   ]
  },
  {
   "cell_type": "code",
   "execution_count": null,
   "metadata": {},
   "outputs": [],
   "source": [
    ""
   ]
  },
  {
   "cell_type": "code",
   "execution_count": null,
   "metadata": {},
   "outputs": [],
   "source": [
    ""
   ]
  },
  {
   "cell_type": "code",
   "execution_count": null,
   "metadata": {},
   "outputs": [],
   "source": [
    ""
   ]
  }
 ],
 "metadata": {
  "kernelspec": {
   "display_name": "Python 2",
   "language": "python",
   "name": "python2"
  },
  "language_info": {
   "codemirror_mode": {
    "name": "ipython",
    "version": 2.0
   },
   "file_extension": ".py",
   "mimetype": "text/x-python",
   "name": "python",
   "nbconvert_exporter": "python",
   "pygments_lexer": "ipython2",
   "version": "2.7.6"
  }
 },
 "nbformat": 4,
 "nbformat_minor": 0
}